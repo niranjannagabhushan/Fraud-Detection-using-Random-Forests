{
 "cells": [
  {
   "cell_type": "markdown",
   "metadata": {
    "colab_type": "text",
    "id": "jn2WK-EnvdaQ"
   },
   "source": [
    "## Introduction\n",
    "In this notebook we will learn how to build Random Forest Model. The dataset used in this notebook is of '[IEEE-CIS Fraud Detection](https://www.kaggle.com/c/ieee-fraud-detection/data)'.<br>\n",
    "\n",
    "\n",
    "\n",
    "#### Outline\n",
    "*  Loading Libraries\n",
    "*  Loading Data\n",
    "*  Getting Basic Idea About Data\n",
    "*  Missing Values and Dealing with Missing Values\n",
    "*  One Hot Encoding (Creating dummies for categorical columns)\n",
    "*  Standardization / Normalization\n",
    "*  Splitting the dataset into train and test data\n",
    "*  Dealing with Imbalanced Data\n",
    "*  Building Random Forest Model\n",
    "*  Cross - Validation and Hyper parameter tunning"
   ]
  },
  {
   "cell_type": "markdown",
   "metadata": {
    "colab_type": "text",
    "id": "89IQeG9VuUpM"
   },
   "source": [
    "## Loading Libraries"
   ]
  },
  {
   "cell_type": "code",
   "execution_count": 4,
   "metadata": {
    "colab": {
     "base_uri": "https://localhost:8080/",
     "height": 71
    },
    "colab_type": "code",
    "id": "L_lWWBjGvNP1",
    "outputId": "39b19f43-5dae-48a0-eaa6-a16e4ef04af8"
   },
   "outputs": [],
   "source": [
    "import pandas as pd                  # A fundamental package for linear algebra and multidimensional arrays\n",
    "import numpy as np                   # Data analysis and data manipulating tool\n",
    "import random                        # Library to generate random numbers\n",
    "from collections import Counter      # Collection is a Python module that implements specialized container datatypes providing \n",
    "                                     # alternatives to Python’s general purpose built-in containers, dict, list, set, and tuple.\n",
    "                                     # Counter is a dict subclass for counting hashable objects\n",
    "# Visualization libraries\n",
    "import matplotlib.pyplot as plt\n",
    "import seaborn as sns\n",
    "\n",
    "# To ignore warnings in the notebook\n",
    "import warnings\n",
    "warnings.filterwarnings(\"ignore\")"
   ]
  },
  {
   "cell_type": "markdown",
   "metadata": {
    "colab_type": "text",
    "id": "2jIwY1OGvr7A"
   },
   "source": [
    "## Loading Data"
   ]
  },
  {
   "cell_type": "code",
   "execution_count": 5,
   "metadata": {
    "colab": {},
    "colab_type": "code",
    "id": "G_bYGjBvvkVv"
   },
   "outputs": [],
   "source": [
    "fraud_data = pd.read_csv(\"fraud_data.csv\")"
   ]
  },
  {
   "cell_type": "markdown",
   "metadata": {
    "colab_type": "text",
    "id": "kvyUn8YG8wyC"
   },
   "source": [
    "### Getting Basic Idea About Data"
   ]
  },
  {
   "cell_type": "code",
   "execution_count": 6,
   "metadata": {
    "colab": {
     "base_uri": "https://localhost:8080/",
     "height": 321
    },
    "colab_type": "code",
    "id": "8CmggKjE8ZUk",
    "outputId": "adbfe24d-340f-4a0c-b756-5a5fb350fb9f"
   },
   "outputs": [
    {
     "data": {
      "text/html": [
       "<div>\n",
       "<style scoped>\n",
       "    .dataframe tbody tr th:only-of-type {\n",
       "        vertical-align: middle;\n",
       "    }\n",
       "\n",
       "    .dataframe tbody tr th {\n",
       "        vertical-align: top;\n",
       "    }\n",
       "\n",
       "    .dataframe thead th {\n",
       "        text-align: right;\n",
       "    }\n",
       "</style>\n",
       "<table border=\"1\" class=\"dataframe\">\n",
       "  <thead>\n",
       "    <tr style=\"text-align: right;\">\n",
       "      <th></th>\n",
       "      <th>TransactionID</th>\n",
       "      <th>isFraud</th>\n",
       "      <th>TransactionDT</th>\n",
       "      <th>TransactionAmt</th>\n",
       "      <th>ProductCD</th>\n",
       "      <th>card1</th>\n",
       "      <th>card2</th>\n",
       "      <th>card3</th>\n",
       "      <th>card4</th>\n",
       "      <th>card5</th>\n",
       "      <th>...</th>\n",
       "      <th>id_31</th>\n",
       "      <th>id_32</th>\n",
       "      <th>id_33</th>\n",
       "      <th>id_34</th>\n",
       "      <th>id_35</th>\n",
       "      <th>id_36</th>\n",
       "      <th>id_37</th>\n",
       "      <th>id_38</th>\n",
       "      <th>DeviceType</th>\n",
       "      <th>DeviceInfo</th>\n",
       "    </tr>\n",
       "  </thead>\n",
       "  <tbody>\n",
       "    <tr>\n",
       "      <th>0</th>\n",
       "      <td>2994681</td>\n",
       "      <td>0</td>\n",
       "      <td>242834</td>\n",
       "      <td>25.000</td>\n",
       "      <td>H</td>\n",
       "      <td>9803</td>\n",
       "      <td>583.0</td>\n",
       "      <td>150.0</td>\n",
       "      <td>visa</td>\n",
       "      <td>226.0</td>\n",
       "      <td>...</td>\n",
       "      <td>firefox 56.0</td>\n",
       "      <td>24.0</td>\n",
       "      <td>1920x1080</td>\n",
       "      <td>match_status:2</td>\n",
       "      <td>T</td>\n",
       "      <td>F</td>\n",
       "      <td>T</td>\n",
       "      <td>T</td>\n",
       "      <td>desktop</td>\n",
       "      <td>rv:56.0</td>\n",
       "    </tr>\n",
       "    <tr>\n",
       "      <th>1</th>\n",
       "      <td>3557242</td>\n",
       "      <td>0</td>\n",
       "      <td>15123000</td>\n",
       "      <td>117.000</td>\n",
       "      <td>W</td>\n",
       "      <td>7919</td>\n",
       "      <td>194.0</td>\n",
       "      <td>150.0</td>\n",
       "      <td>mastercard</td>\n",
       "      <td>166.0</td>\n",
       "      <td>...</td>\n",
       "      <td>NaN</td>\n",
       "      <td>NaN</td>\n",
       "      <td>NaN</td>\n",
       "      <td>NaN</td>\n",
       "      <td>NaN</td>\n",
       "      <td>NaN</td>\n",
       "      <td>NaN</td>\n",
       "      <td>NaN</td>\n",
       "      <td>NaN</td>\n",
       "      <td>NaN</td>\n",
       "    </tr>\n",
       "    <tr>\n",
       "      <th>2</th>\n",
       "      <td>3327470</td>\n",
       "      <td>0</td>\n",
       "      <td>8378575</td>\n",
       "      <td>73.773</td>\n",
       "      <td>C</td>\n",
       "      <td>12778</td>\n",
       "      <td>500.0</td>\n",
       "      <td>185.0</td>\n",
       "      <td>mastercard</td>\n",
       "      <td>224.0</td>\n",
       "      <td>...</td>\n",
       "      <td>NaN</td>\n",
       "      <td>NaN</td>\n",
       "      <td>NaN</td>\n",
       "      <td>NaN</td>\n",
       "      <td>NaN</td>\n",
       "      <td>NaN</td>\n",
       "      <td>NaN</td>\n",
       "      <td>NaN</td>\n",
       "      <td>NaN</td>\n",
       "      <td>NaN</td>\n",
       "    </tr>\n",
       "    <tr>\n",
       "      <th>3</th>\n",
       "      <td>3118781</td>\n",
       "      <td>0</td>\n",
       "      <td>2607840</td>\n",
       "      <td>400.000</td>\n",
       "      <td>R</td>\n",
       "      <td>12316</td>\n",
       "      <td>548.0</td>\n",
       "      <td>150.0</td>\n",
       "      <td>visa</td>\n",
       "      <td>195.0</td>\n",
       "      <td>...</td>\n",
       "      <td>mobile safari generic</td>\n",
       "      <td>32.0</td>\n",
       "      <td>1136x640</td>\n",
       "      <td>match_status:2</td>\n",
       "      <td>T</td>\n",
       "      <td>F</td>\n",
       "      <td>T</td>\n",
       "      <td>F</td>\n",
       "      <td>mobile</td>\n",
       "      <td>iOS Device</td>\n",
       "    </tr>\n",
       "    <tr>\n",
       "      <th>4</th>\n",
       "      <td>3459772</td>\n",
       "      <td>0</td>\n",
       "      <td>12226544</td>\n",
       "      <td>31.950</td>\n",
       "      <td>W</td>\n",
       "      <td>9002</td>\n",
       "      <td>453.0</td>\n",
       "      <td>150.0</td>\n",
       "      <td>visa</td>\n",
       "      <td>226.0</td>\n",
       "      <td>...</td>\n",
       "      <td>NaN</td>\n",
       "      <td>NaN</td>\n",
       "      <td>NaN</td>\n",
       "      <td>NaN</td>\n",
       "      <td>NaN</td>\n",
       "      <td>NaN</td>\n",
       "      <td>NaN</td>\n",
       "      <td>NaN</td>\n",
       "      <td>NaN</td>\n",
       "      <td>NaN</td>\n",
       "    </tr>\n",
       "  </tbody>\n",
       "</table>\n",
       "<p>5 rows × 434 columns</p>\n",
       "</div>"
      ],
      "text/plain": [
       "   TransactionID  isFraud  TransactionDT  TransactionAmt ProductCD  card1  \\\n",
       "0        2994681        0         242834          25.000         H   9803   \n",
       "1        3557242        0       15123000         117.000         W   7919   \n",
       "2        3327470        0        8378575          73.773         C  12778   \n",
       "3        3118781        0        2607840         400.000         R  12316   \n",
       "4        3459772        0       12226544          31.950         W   9002   \n",
       "\n",
       "   card2  card3       card4  card5  ...                  id_31  id_32  \\\n",
       "0  583.0  150.0        visa  226.0  ...           firefox 56.0   24.0   \n",
       "1  194.0  150.0  mastercard  166.0  ...                    NaN    NaN   \n",
       "2  500.0  185.0  mastercard  224.0  ...                    NaN    NaN   \n",
       "3  548.0  150.0        visa  195.0  ...  mobile safari generic   32.0   \n",
       "4  453.0  150.0        visa  226.0  ...                    NaN    NaN   \n",
       "\n",
       "       id_33           id_34  id_35 id_36 id_37  id_38  DeviceType  DeviceInfo  \n",
       "0  1920x1080  match_status:2      T     F     T      T     desktop     rv:56.0  \n",
       "1        NaN             NaN    NaN   NaN   NaN    NaN         NaN         NaN  \n",
       "2        NaN             NaN    NaN   NaN   NaN    NaN         NaN         NaN  \n",
       "3   1136x640  match_status:2      T     F     T      F      mobile  iOS Device  \n",
       "4        NaN             NaN    NaN   NaN   NaN    NaN         NaN         NaN  \n",
       "\n",
       "[5 rows x 434 columns]"
      ]
     },
     "execution_count": 6,
     "metadata": {},
     "output_type": "execute_result"
    }
   ],
   "source": [
    "fraud_data.head()"
   ]
  },
  {
   "cell_type": "code",
   "execution_count": 7,
   "metadata": {
    "colab": {
     "base_uri": "https://localhost:8080/",
     "height": 102
    },
    "colab_type": "code",
    "id": "jwNQSckh83QZ",
    "outputId": "ea49d8b3-fff8-487c-e97f-7cda744f10da"
   },
   "outputs": [
    {
     "name": "stdout",
     "output_type": "stream",
     "text": [
      "<class 'pandas.core.frame.DataFrame'>\n",
      "RangeIndex: 59054 entries, 0 to 59053\n",
      "Columns: 434 entries, TransactionID to DeviceInfo\n",
      "dtypes: float64(385), int64(18), object(31)\n",
      "memory usage: 195.5+ MB\n"
     ]
    }
   ],
   "source": [
    "fraud_data.info()"
   ]
  },
  {
   "cell_type": "markdown",
   "metadata": {
    "colab_type": "text",
    "id": "6FjL68CPABH7"
   },
   "source": [
    "There are 434 columns with 59054 observations."
   ]
  },
  {
   "cell_type": "code",
   "execution_count": 8,
   "metadata": {
    "colab": {
     "base_uri": "https://localhost:8080/",
     "height": 346
    },
    "colab_type": "code",
    "id": "1mqIdBU-M_mT",
    "outputId": "d92a24e6-b367-4775-eb34-e3f7c253f2b3"
   },
   "outputs": [
    {
     "data": {
      "text/html": [
       "<div>\n",
       "<style scoped>\n",
       "    .dataframe tbody tr th:only-of-type {\n",
       "        vertical-align: middle;\n",
       "    }\n",
       "\n",
       "    .dataframe tbody tr th {\n",
       "        vertical-align: top;\n",
       "    }\n",
       "\n",
       "    .dataframe thead th {\n",
       "        text-align: right;\n",
       "    }\n",
       "</style>\n",
       "<table border=\"1\" class=\"dataframe\">\n",
       "  <thead>\n",
       "    <tr style=\"text-align: right;\">\n",
       "      <th></th>\n",
       "      <th>TransactionID</th>\n",
       "      <th>isFraud</th>\n",
       "      <th>TransactionDT</th>\n",
       "      <th>TransactionAmt</th>\n",
       "      <th>card1</th>\n",
       "      <th>card2</th>\n",
       "      <th>card3</th>\n",
       "      <th>card5</th>\n",
       "      <th>addr1</th>\n",
       "      <th>addr2</th>\n",
       "      <th>...</th>\n",
       "      <th>id_17</th>\n",
       "      <th>id_18</th>\n",
       "      <th>id_19</th>\n",
       "      <th>id_20</th>\n",
       "      <th>id_21</th>\n",
       "      <th>id_22</th>\n",
       "      <th>id_24</th>\n",
       "      <th>id_25</th>\n",
       "      <th>id_26</th>\n",
       "      <th>id_32</th>\n",
       "    </tr>\n",
       "  </thead>\n",
       "  <tbody>\n",
       "    <tr>\n",
       "      <th>count</th>\n",
       "      <td>5.905400e+04</td>\n",
       "      <td>59054.000000</td>\n",
       "      <td>5.905400e+04</td>\n",
       "      <td>59054.000000</td>\n",
       "      <td>59054.000000</td>\n",
       "      <td>58139.000000</td>\n",
       "      <td>58896.000000</td>\n",
       "      <td>58610.000000</td>\n",
       "      <td>52326.000000</td>\n",
       "      <td>52326.000000</td>\n",
       "      <td>...</td>\n",
       "      <td>14061.00000</td>\n",
       "      <td>4511.000000</td>\n",
       "      <td>14059.000000</td>\n",
       "      <td>14054.000000</td>\n",
       "      <td>525.000000</td>\n",
       "      <td>525.000000</td>\n",
       "      <td>487.000000</td>\n",
       "      <td>524.000000</td>\n",
       "      <td>525.000000</td>\n",
       "      <td>7715.000000</td>\n",
       "    </tr>\n",
       "    <tr>\n",
       "      <th>mean</th>\n",
       "      <td>3.282166e+06</td>\n",
       "      <td>0.033952</td>\n",
       "      <td>7.368220e+06</td>\n",
       "      <td>134.142888</td>\n",
       "      <td>9910.366360</td>\n",
       "      <td>362.438054</td>\n",
       "      <td>153.264551</td>\n",
       "      <td>199.104231</td>\n",
       "      <td>290.653939</td>\n",
       "      <td>86.806616</td>\n",
       "      <td>...</td>\n",
       "      <td>189.89958</td>\n",
       "      <td>14.238750</td>\n",
       "      <td>351.767622</td>\n",
       "      <td>404.594777</td>\n",
       "      <td>385.257143</td>\n",
       "      <td>15.748571</td>\n",
       "      <td>12.739220</td>\n",
       "      <td>326.225191</td>\n",
       "      <td>148.794286</td>\n",
       "      <td>26.499028</td>\n",
       "    </tr>\n",
       "    <tr>\n",
       "      <th>std</th>\n",
       "      <td>1.702573e+05</td>\n",
       "      <td>0.181107</td>\n",
       "      <td>4.612063e+06</td>\n",
       "      <td>233.112295</td>\n",
       "      <td>4893.704524</td>\n",
       "      <td>157.360648</td>\n",
       "      <td>11.395609</td>\n",
       "      <td>41.296438</td>\n",
       "      <td>101.796538</td>\n",
       "      <td>2.639572</td>\n",
       "      <td>...</td>\n",
       "      <td>30.34787</td>\n",
       "      <td>1.524658</td>\n",
       "      <td>141.600677</td>\n",
       "      <td>152.201538</td>\n",
       "      <td>213.565534</td>\n",
       "      <td>6.496154</td>\n",
       "      <td>2.275238</td>\n",
       "      <td>97.662855</td>\n",
       "      <td>31.168092</td>\n",
       "      <td>3.739140</td>\n",
       "    </tr>\n",
       "    <tr>\n",
       "      <th>min</th>\n",
       "      <td>2.987019e+06</td>\n",
       "      <td>0.000000</td>\n",
       "      <td>8.673000e+04</td>\n",
       "      <td>0.292000</td>\n",
       "      <td>1008.000000</td>\n",
       "      <td>100.000000</td>\n",
       "      <td>100.000000</td>\n",
       "      <td>100.000000</td>\n",
       "      <td>100.000000</td>\n",
       "      <td>13.000000</td>\n",
       "      <td>...</td>\n",
       "      <td>100.00000</td>\n",
       "      <td>11.000000</td>\n",
       "      <td>100.000000</td>\n",
       "      <td>100.000000</td>\n",
       "      <td>114.000000</td>\n",
       "      <td>14.000000</td>\n",
       "      <td>11.000000</td>\n",
       "      <td>100.000000</td>\n",
       "      <td>100.000000</td>\n",
       "      <td>0.000000</td>\n",
       "    </tr>\n",
       "    <tr>\n",
       "      <th>25%</th>\n",
       "      <td>3.135748e+06</td>\n",
       "      <td>0.000000</td>\n",
       "      <td>3.074217e+06</td>\n",
       "      <td>42.950000</td>\n",
       "      <td>6019.000000</td>\n",
       "      <td>215.000000</td>\n",
       "      <td>150.000000</td>\n",
       "      <td>166.000000</td>\n",
       "      <td>204.000000</td>\n",
       "      <td>87.000000</td>\n",
       "      <td>...</td>\n",
       "      <td>166.00000</td>\n",
       "      <td>13.000000</td>\n",
       "      <td>266.000000</td>\n",
       "      <td>256.000000</td>\n",
       "      <td>252.000000</td>\n",
       "      <td>14.000000</td>\n",
       "      <td>11.000000</td>\n",
       "      <td>321.000000</td>\n",
       "      <td>119.000000</td>\n",
       "      <td>24.000000</td>\n",
       "    </tr>\n",
       "    <tr>\n",
       "      <th>50%</th>\n",
       "      <td>3.282062e+06</td>\n",
       "      <td>0.000000</td>\n",
       "      <td>7.288450e+06</td>\n",
       "      <td>68.017000</td>\n",
       "      <td>9749.000000</td>\n",
       "      <td>361.000000</td>\n",
       "      <td>150.000000</td>\n",
       "      <td>226.000000</td>\n",
       "      <td>299.000000</td>\n",
       "      <td>87.000000</td>\n",
       "      <td>...</td>\n",
       "      <td>166.00000</td>\n",
       "      <td>15.000000</td>\n",
       "      <td>339.000000</td>\n",
       "      <td>484.000000</td>\n",
       "      <td>252.000000</td>\n",
       "      <td>14.000000</td>\n",
       "      <td>11.000000</td>\n",
       "      <td>321.000000</td>\n",
       "      <td>147.000000</td>\n",
       "      <td>24.000000</td>\n",
       "    </tr>\n",
       "    <tr>\n",
       "      <th>75%</th>\n",
       "      <td>3.429699e+06</td>\n",
       "      <td>0.000000</td>\n",
       "      <td>1.123918e+07</td>\n",
       "      <td>117.000000</td>\n",
       "      <td>14223.000000</td>\n",
       "      <td>512.000000</td>\n",
       "      <td>150.000000</td>\n",
       "      <td>226.000000</td>\n",
       "      <td>330.000000</td>\n",
       "      <td>87.000000</td>\n",
       "      <td>...</td>\n",
       "      <td>225.00000</td>\n",
       "      <td>15.000000</td>\n",
       "      <td>427.000000</td>\n",
       "      <td>533.000000</td>\n",
       "      <td>554.000000</td>\n",
       "      <td>14.000000</td>\n",
       "      <td>15.000000</td>\n",
       "      <td>361.000000</td>\n",
       "      <td>169.000000</td>\n",
       "      <td>32.000000</td>\n",
       "    </tr>\n",
       "    <tr>\n",
       "      <th>max</th>\n",
       "      <td>3.577536e+06</td>\n",
       "      <td>1.000000</td>\n",
       "      <td>1.581105e+07</td>\n",
       "      <td>5279.950000</td>\n",
       "      <td>18390.000000</td>\n",
       "      <td>600.000000</td>\n",
       "      <td>229.000000</td>\n",
       "      <td>237.000000</td>\n",
       "      <td>536.000000</td>\n",
       "      <td>102.000000</td>\n",
       "      <td>...</td>\n",
       "      <td>225.00000</td>\n",
       "      <td>29.000000</td>\n",
       "      <td>670.000000</td>\n",
       "      <td>660.000000</td>\n",
       "      <td>854.000000</td>\n",
       "      <td>43.000000</td>\n",
       "      <td>24.000000</td>\n",
       "      <td>548.000000</td>\n",
       "      <td>216.000000</td>\n",
       "      <td>32.000000</td>\n",
       "    </tr>\n",
       "  </tbody>\n",
       "</table>\n",
       "<p>8 rows × 403 columns</p>\n",
       "</div>"
      ],
      "text/plain": [
       "       TransactionID       isFraud  TransactionDT  TransactionAmt  \\\n",
       "count   5.905400e+04  59054.000000   5.905400e+04    59054.000000   \n",
       "mean    3.282166e+06      0.033952   7.368220e+06      134.142888   \n",
       "std     1.702573e+05      0.181107   4.612063e+06      233.112295   \n",
       "min     2.987019e+06      0.000000   8.673000e+04        0.292000   \n",
       "25%     3.135748e+06      0.000000   3.074217e+06       42.950000   \n",
       "50%     3.282062e+06      0.000000   7.288450e+06       68.017000   \n",
       "75%     3.429699e+06      0.000000   1.123918e+07      117.000000   \n",
       "max     3.577536e+06      1.000000   1.581105e+07     5279.950000   \n",
       "\n",
       "              card1         card2         card3         card5         addr1  \\\n",
       "count  59054.000000  58139.000000  58896.000000  58610.000000  52326.000000   \n",
       "mean    9910.366360    362.438054    153.264551    199.104231    290.653939   \n",
       "std     4893.704524    157.360648     11.395609     41.296438    101.796538   \n",
       "min     1008.000000    100.000000    100.000000    100.000000    100.000000   \n",
       "25%     6019.000000    215.000000    150.000000    166.000000    204.000000   \n",
       "50%     9749.000000    361.000000    150.000000    226.000000    299.000000   \n",
       "75%    14223.000000    512.000000    150.000000    226.000000    330.000000   \n",
       "max    18390.000000    600.000000    229.000000    237.000000    536.000000   \n",
       "\n",
       "              addr2  ...        id_17        id_18         id_19  \\\n",
       "count  52326.000000  ...  14061.00000  4511.000000  14059.000000   \n",
       "mean      86.806616  ...    189.89958    14.238750    351.767622   \n",
       "std        2.639572  ...     30.34787     1.524658    141.600677   \n",
       "min       13.000000  ...    100.00000    11.000000    100.000000   \n",
       "25%       87.000000  ...    166.00000    13.000000    266.000000   \n",
       "50%       87.000000  ...    166.00000    15.000000    339.000000   \n",
       "75%       87.000000  ...    225.00000    15.000000    427.000000   \n",
       "max      102.000000  ...    225.00000    29.000000    670.000000   \n",
       "\n",
       "              id_20       id_21       id_22       id_24       id_25  \\\n",
       "count  14054.000000  525.000000  525.000000  487.000000  524.000000   \n",
       "mean     404.594777  385.257143   15.748571   12.739220  326.225191   \n",
       "std      152.201538  213.565534    6.496154    2.275238   97.662855   \n",
       "min      100.000000  114.000000   14.000000   11.000000  100.000000   \n",
       "25%      256.000000  252.000000   14.000000   11.000000  321.000000   \n",
       "50%      484.000000  252.000000   14.000000   11.000000  321.000000   \n",
       "75%      533.000000  554.000000   14.000000   15.000000  361.000000   \n",
       "max      660.000000  854.000000   43.000000   24.000000  548.000000   \n",
       "\n",
       "            id_26        id_32  \n",
       "count  525.000000  7715.000000  \n",
       "mean   148.794286    26.499028  \n",
       "std     31.168092     3.739140  \n",
       "min    100.000000     0.000000  \n",
       "25%    119.000000    24.000000  \n",
       "50%    147.000000    24.000000  \n",
       "75%    169.000000    32.000000  \n",
       "max    216.000000    32.000000  \n",
       "\n",
       "[8 rows x 403 columns]"
      ]
     },
     "execution_count": 8,
     "metadata": {},
     "output_type": "execute_result"
    }
   ],
   "source": [
    "fraud_data.describe()"
   ]
  },
  {
   "cell_type": "code",
   "execution_count": 9,
   "metadata": {
    "colab": {
     "base_uri": "https://localhost:8080/",
     "height": 68
    },
    "colab_type": "code",
    "id": "GcnguA4n9IsZ",
    "outputId": "6c26e9c0-f80f-4837-fc12-8ce52005130d"
   },
   "outputs": [
    {
     "data": {
      "text/plain": [
       "0    57049\n",
       "1     2005\n",
       "Name: isFraud, dtype: int64"
      ]
     },
     "execution_count": 9,
     "metadata": {},
     "output_type": "execute_result"
    }
   ],
   "source": [
    "# Taking a look at the target variable\n",
    "fraud_data.isFraud.value_counts()"
   ]
  },
  {
   "cell_type": "markdown",
   "metadata": {
    "colab_type": "text",
    "id": "1L-PiTGd9d8b"
   },
   "source": [
    "We can notice, of 57049 observations / records only 2005 were fraud transactions."
   ]
  },
  {
   "cell_type": "code",
   "execution_count": 10,
   "metadata": {
    "colab": {
     "base_uri": "https://localhost:8080/",
     "height": 68
    },
    "colab_type": "code",
    "id": "92IJJSUf9cgq",
    "outputId": "d5fb80a7-b0fa-4758-9e54-991602d400bb"
   },
   "outputs": [
    {
     "data": {
      "text/plain": [
       "0    0.966048\n",
       "1    0.033952\n",
       "Name: isFraud, dtype: float64"
      ]
     },
     "execution_count": 10,
     "metadata": {},
     "output_type": "execute_result"
    }
   ],
   "source": [
    "fraud_data.isFraud.value_counts(normalize = True)      # Normalize = True will find the proportion of fraud transaction and not fraud transaction "
   ]
  },
  {
   "cell_type": "code",
   "execution_count": 11,
   "metadata": {
    "colab": {
     "base_uri": "https://localhost:8080/",
     "height": 296
    },
    "colab_type": "code",
    "id": "sOl5jgYE9wLg",
    "outputId": "d8074c55-e2cd-476c-9548-9e9ab39cf8b3"
   },
   "outputs": [
    {
     "data": {
      "text/plain": [
       "<AxesSubplot:xlabel='isFraud', ylabel='count'>"
      ]
     },
     "execution_count": 11,
     "metadata": {},
     "output_type": "execute_result"
    },
    {
     "data": {
      "image/png": "[encoded data removed]",
      "text/plain": [
       "<Figure size 432x288 with 1 Axes>"
      ]
     },
     "metadata": {
      "needs_background": "light"
     },
     "output_type": "display_data"
    }
   ],
   "source": [
    "# we can also use countplot form seaborn to plot the above information graphically.\n",
    "sns.countplot(fraud_data.isFraud)"
   ]
  },
  {
   "cell_type": "markdown",
   "metadata": {
    "colab_type": "text",
    "id": "WBTv2idc-l1a"
   },
   "source": [
    "There are only 3% of the data which are fraud and the rest 97% are not fraud, Hence Class imbalance problem."
   ]
  },
  {
   "cell_type": "markdown",
   "metadata": {
    "colab_type": "text",
    "id": "zks_JnKq_6tN"
   },
   "source": [
    "### Missing values"
   ]
  },
  {
   "cell_type": "code",
   "execution_count": 12,
   "metadata": {
    "colab": {},
    "colab_type": "code",
    "id": "drHmFMx_ANjt"
   },
   "outputs": [],
   "source": [
    "def miss_val_info(df):\n",
    "    missing_count = df.isnull().sum().sort_values(ascending = False)\n",
    "    missing_percent = round(missing_count / len(df) * 100, 2)\n",
    "    missing_info = pd.concat([missing_count, missing_percent], axis = 1, keys=['Missing Value Count','Percent of missing values'])\n",
    "    return missing_info[missing_info['Missing Value Count'] != 0]"
   ]
  },
  {
   "cell_type": "code",
   "execution_count": 13,
   "metadata": {
    "colab": {
     "base_uri": "https://localhost:8080/",
     "height": 419
    },
    "colab_type": "code",
    "id": "EHgTEqHR-Kk2",
    "outputId": "12627aea-4503-4183-94a1-90a6bea21e4b"
   },
   "outputs": [
    {
     "data": {
      "text/html": [
       "<div>\n",
       "<style scoped>\n",
       "    .dataframe tbody tr th:only-of-type {\n",
       "        vertical-align: middle;\n",
       "    }\n",
       "\n",
       "    .dataframe tbody tr th {\n",
       "        vertical-align: top;\n",
       "    }\n",
       "\n",
       "    .dataframe thead th {\n",
       "        text-align: right;\n",
       "    }\n",
       "</style>\n",
       "<table border=\"1\" class=\"dataframe\">\n",
       "  <thead>\n",
       "    <tr style=\"text-align: right;\">\n",
       "      <th></th>\n",
       "      <th>Missing Value Count</th>\n",
       "      <th>Percent of missing values</th>\n",
       "    </tr>\n",
       "  </thead>\n",
       "  <tbody>\n",
       "    <tr>\n",
       "      <th>id_24</th>\n",
       "      <td>58567</td>\n",
       "      <td>99.18</td>\n",
       "    </tr>\n",
       "    <tr>\n",
       "      <th>id_25</th>\n",
       "      <td>58530</td>\n",
       "      <td>99.11</td>\n",
       "    </tr>\n",
       "    <tr>\n",
       "      <th>id_26</th>\n",
       "      <td>58529</td>\n",
       "      <td>99.11</td>\n",
       "    </tr>\n",
       "    <tr>\n",
       "      <th>id_21</th>\n",
       "      <td>58529</td>\n",
       "      <td>99.11</td>\n",
       "    </tr>\n",
       "    <tr>\n",
       "      <th>id_22</th>\n",
       "      <td>58529</td>\n",
       "      <td>99.11</td>\n",
       "    </tr>\n",
       "    <tr>\n",
       "      <th>...</th>\n",
       "      <td>...</td>\n",
       "      <td>...</td>\n",
       "    </tr>\n",
       "    <tr>\n",
       "      <th>V316</th>\n",
       "      <td>3</td>\n",
       "      <td>0.01</td>\n",
       "    </tr>\n",
       "    <tr>\n",
       "      <th>V317</th>\n",
       "      <td>3</td>\n",
       "      <td>0.01</td>\n",
       "    </tr>\n",
       "    <tr>\n",
       "      <th>V318</th>\n",
       "      <td>3</td>\n",
       "      <td>0.01</td>\n",
       "    </tr>\n",
       "    <tr>\n",
       "      <th>V319</th>\n",
       "      <td>3</td>\n",
       "      <td>0.01</td>\n",
       "    </tr>\n",
       "    <tr>\n",
       "      <th>V310</th>\n",
       "      <td>3</td>\n",
       "      <td>0.01</td>\n",
       "    </tr>\n",
       "  </tbody>\n",
       "</table>\n",
       "<p>414 rows × 2 columns</p>\n",
       "</div>"
      ],
      "text/plain": [
       "       Missing Value Count  Percent of missing values\n",
       "id_24                58567                      99.18\n",
       "id_25                58530                      99.11\n",
       "id_26                58529                      99.11\n",
       "id_21                58529                      99.11\n",
       "id_22                58529                      99.11\n",
       "...                    ...                        ...\n",
       "V316                     3                       0.01\n",
       "V317                     3                       0.01\n",
       "V318                     3                       0.01\n",
       "V319                     3                       0.01\n",
       "V310                     3                       0.01\n",
       "\n",
       "[414 rows x 2 columns]"
      ]
     },
     "execution_count": 13,
     "metadata": {},
     "output_type": "execute_result"
    }
   ],
   "source": [
    "miss_val_info(fraud_data)      # Display the frequency and percentage of data missing in each column"
   ]
  },
  {
   "cell_type": "markdown",
   "metadata": {
    "colab_type": "text",
    "id": "02bqVJEbBxQc"
   },
   "source": [
    "Out of 434 columns, 414 have some missing values."
   ]
  },
  {
   "cell_type": "markdown",
   "metadata": {
    "colab_type": "text",
    "id": "qjdy3vG5BmER"
   },
   "source": [
    "### Dealing with Missing Values\n",
    "We fill missing values by mean or median or mode(i.e. maximum occuring value). Generally we use mean but if there are some outliers, we fill missing values with median. Mode is used to fill missing values for categorical column."
   ]
  },
  {
   "cell_type": "markdown",
   "metadata": {
    "colab_type": "text",
    "id": "eZzsrECfAaSV"
   },
   "source": [
    "Eliminate columns with more than 20% missing values"
   ]
  },
  {
   "cell_type": "code",
   "execution_count": 14,
   "metadata": {
    "colab": {},
    "colab_type": "code",
    "id": "qv5kehT_ALOO"
   },
   "outputs": [],
   "source": [
    "fraud_data = fraud_data[fraud_data.columns[fraud_data.isnull().mean() < 0.2]]"
   ]
  },
  {
   "cell_type": "markdown",
   "metadata": {
    "colab_type": "text",
    "id": "ysp1sghyDU1s"
   },
   "source": [
    "Here we will fill missing values with mean value for the numerical column."
   ]
  },
  {
   "cell_type": "code",
   "execution_count": 15,
   "metadata": {
    "colab": {},
    "colab_type": "code",
    "id": "KSvRk1xJBAyR"
   },
   "outputs": [],
   "source": [
    "# filling missing values of numerical columns with mean value.\n",
    "num_cols = fraud_data.select_dtypes(include=np.number).columns      # getting all the numerical columns\n",
    "\n",
    "fraud_data[num_cols] = fraud_data[num_cols].fillna(fraud_data[num_cols].mean())   # fills the missing values with mean"
   ]
  },
  {
   "cell_type": "markdown",
   "metadata": {
    "colab_type": "text",
    "id": "yK7ANXA5Eoeh"
   },
   "source": [
    "Filling categorical columns with mode (i.e. maximum occuring element in the column)"
   ]
  },
  {
   "cell_type": "code",
   "execution_count": 16,
   "metadata": {
    "colab": {},
    "colab_type": "code",
    "id": "UeUz0v1ZEhAY"
   },
   "outputs": [],
   "source": [
    "cat_cols = fraud_data.select_dtypes(include = 'object').columns    # getting all the categorical columns\n",
    "\n",
    "fraud_data[cat_cols] = fraud_data[cat_cols].fillna(fraud_data[cat_cols].mode().iloc[0])  # fills the missing values with maximum occuring element in the column"
   ]
  },
  {
   "cell_type": "code",
   "execution_count": 17,
   "metadata": {
    "colab": {
     "base_uri": "https://localhost:8080/",
     "height": 0
    },
    "colab_type": "code",
    "id": "ajSX2MhlFbWz",
    "outputId": "319fd42e-f10a-421a-c1b7-d14e404bc751"
   },
   "outputs": [
    {
     "data": {
      "text/html": [
       "<div>\n",
       "<style scoped>\n",
       "    .dataframe tbody tr th:only-of-type {\n",
       "        vertical-align: middle;\n",
       "    }\n",
       "\n",
       "    .dataframe tbody tr th {\n",
       "        vertical-align: top;\n",
       "    }\n",
       "\n",
       "    .dataframe thead th {\n",
       "        text-align: right;\n",
       "    }\n",
       "</style>\n",
       "<table border=\"1\" class=\"dataframe\">\n",
       "  <thead>\n",
       "    <tr style=\"text-align: right;\">\n",
       "      <th></th>\n",
       "      <th>Missing Value Count</th>\n",
       "      <th>Percent of missing values</th>\n",
       "    </tr>\n",
       "  </thead>\n",
       "  <tbody>\n",
       "  </tbody>\n",
       "</table>\n",
       "</div>"
      ],
      "text/plain": [
       "Empty DataFrame\n",
       "Columns: [Missing Value Count, Percent of missing values]\n",
       "Index: []"
      ]
     },
     "execution_count": 17,
     "metadata": {},
     "output_type": "execute_result"
    }
   ],
   "source": [
    "# Let's have a look if there still exist any missing values\n",
    "miss_val_info(fraud_data)"
   ]
  },
  {
   "cell_type": "markdown",
   "metadata": {
    "colab_type": "text",
    "id": "LW9XOIz6CGBj"
   },
   "source": [
    "Notice, now we don't have any column with missing value."
   ]
  },
  {
   "cell_type": "markdown",
   "metadata": {
    "colab_type": "text",
    "id": "qKO21Qg8NSQc"
   },
   "source": [
    "### One Hot Encoding (Creating dummies for categorical columns)"
   ]
  },
  {
   "cell_type": "code",
   "execution_count": 18,
   "metadata": {
    "colab": {},
    "colab_type": "code",
    "id": "ydD6ZRZrMFFu"
   },
   "outputs": [],
   "source": [
    "fraud_data = pd.get_dummies(fraud_data, columns=cat_cols)    # earlier we have collected all the categorical columns in cat_cols"
   ]
  },
  {
   "cell_type": "code",
   "execution_count": 19,
   "metadata": {
    "colab": {
     "base_uri": "https://localhost:8080/",
     "height": 0
    },
    "colab_type": "code",
    "id": "ulgnsjelE3I6",
    "outputId": "ac9b4811-5e38-4ad8-9339-57d6ccb7f1ee"
   },
   "outputs": [
    {
     "data": {
      "text/html": [
       "<div>\n",
       "<style scoped>\n",
       "    .dataframe tbody tr th:only-of-type {\n",
       "        vertical-align: middle;\n",
       "    }\n",
       "\n",
       "    .dataframe tbody tr th {\n",
       "        vertical-align: top;\n",
       "    }\n",
       "\n",
       "    .dataframe thead th {\n",
       "        text-align: right;\n",
       "    }\n",
       "</style>\n",
       "<table border=\"1\" class=\"dataframe\">\n",
       "  <thead>\n",
       "    <tr style=\"text-align: right;\">\n",
       "      <th></th>\n",
       "      <th>TransactionID</th>\n",
       "      <th>isFraud</th>\n",
       "      <th>TransactionDT</th>\n",
       "      <th>TransactionAmt</th>\n",
       "      <th>card1</th>\n",
       "      <th>card2</th>\n",
       "      <th>card3</th>\n",
       "      <th>card5</th>\n",
       "      <th>addr1</th>\n",
       "      <th>addr2</th>\n",
       "      <th>...</th>\n",
       "      <th>P_emaildomain_web.de</th>\n",
       "      <th>P_emaildomain_windstream.net</th>\n",
       "      <th>P_emaildomain_yahoo.co.jp</th>\n",
       "      <th>P_emaildomain_yahoo.co.uk</th>\n",
       "      <th>P_emaildomain_yahoo.com</th>\n",
       "      <th>P_emaildomain_yahoo.com.mx</th>\n",
       "      <th>P_emaildomain_yahoo.de</th>\n",
       "      <th>P_emaildomain_yahoo.es</th>\n",
       "      <th>P_emaildomain_yahoo.fr</th>\n",
       "      <th>P_emaildomain_ymail.com</th>\n",
       "    </tr>\n",
       "  </thead>\n",
       "  <tbody>\n",
       "    <tr>\n",
       "      <th>0</th>\n",
       "      <td>2994681</td>\n",
       "      <td>0</td>\n",
       "      <td>242834</td>\n",
       "      <td>25.000</td>\n",
       "      <td>9803</td>\n",
       "      <td>583.0</td>\n",
       "      <td>150.0</td>\n",
       "      <td>226.0</td>\n",
       "      <td>269.0</td>\n",
       "      <td>87.0</td>\n",
       "      <td>...</td>\n",
       "      <td>0</td>\n",
       "      <td>0</td>\n",
       "      <td>0</td>\n",
       "      <td>0</td>\n",
       "      <td>1</td>\n",
       "      <td>0</td>\n",
       "      <td>0</td>\n",
       "      <td>0</td>\n",
       "      <td>0</td>\n",
       "      <td>0</td>\n",
       "    </tr>\n",
       "    <tr>\n",
       "      <th>1</th>\n",
       "      <td>3557242</td>\n",
       "      <td>0</td>\n",
       "      <td>15123000</td>\n",
       "      <td>117.000</td>\n",
       "      <td>7919</td>\n",
       "      <td>194.0</td>\n",
       "      <td>150.0</td>\n",
       "      <td>166.0</td>\n",
       "      <td>181.0</td>\n",
       "      <td>87.0</td>\n",
       "      <td>...</td>\n",
       "      <td>0</td>\n",
       "      <td>0</td>\n",
       "      <td>0</td>\n",
       "      <td>0</td>\n",
       "      <td>0</td>\n",
       "      <td>0</td>\n",
       "      <td>0</td>\n",
       "      <td>0</td>\n",
       "      <td>0</td>\n",
       "      <td>0</td>\n",
       "    </tr>\n",
       "    <tr>\n",
       "      <th>2</th>\n",
       "      <td>3327470</td>\n",
       "      <td>0</td>\n",
       "      <td>8378575</td>\n",
       "      <td>73.773</td>\n",
       "      <td>12778</td>\n",
       "      <td>500.0</td>\n",
       "      <td>185.0</td>\n",
       "      <td>224.0</td>\n",
       "      <td>284.0</td>\n",
       "      <td>60.0</td>\n",
       "      <td>...</td>\n",
       "      <td>0</td>\n",
       "      <td>0</td>\n",
       "      <td>0</td>\n",
       "      <td>0</td>\n",
       "      <td>0</td>\n",
       "      <td>0</td>\n",
       "      <td>0</td>\n",
       "      <td>0</td>\n",
       "      <td>0</td>\n",
       "      <td>0</td>\n",
       "    </tr>\n",
       "    <tr>\n",
       "      <th>3</th>\n",
       "      <td>3118781</td>\n",
       "      <td>0</td>\n",
       "      <td>2607840</td>\n",
       "      <td>400.000</td>\n",
       "      <td>12316</td>\n",
       "      <td>548.0</td>\n",
       "      <td>150.0</td>\n",
       "      <td>195.0</td>\n",
       "      <td>441.0</td>\n",
       "      <td>87.0</td>\n",
       "      <td>...</td>\n",
       "      <td>0</td>\n",
       "      <td>0</td>\n",
       "      <td>0</td>\n",
       "      <td>0</td>\n",
       "      <td>0</td>\n",
       "      <td>0</td>\n",
       "      <td>0</td>\n",
       "      <td>0</td>\n",
       "      <td>0</td>\n",
       "      <td>0</td>\n",
       "    </tr>\n",
       "    <tr>\n",
       "      <th>4</th>\n",
       "      <td>3459772</td>\n",
       "      <td>0</td>\n",
       "      <td>12226544</td>\n",
       "      <td>31.950</td>\n",
       "      <td>9002</td>\n",
       "      <td>453.0</td>\n",
       "      <td>150.0</td>\n",
       "      <td>226.0</td>\n",
       "      <td>264.0</td>\n",
       "      <td>87.0</td>\n",
       "      <td>...</td>\n",
       "      <td>0</td>\n",
       "      <td>0</td>\n",
       "      <td>0</td>\n",
       "      <td>0</td>\n",
       "      <td>1</td>\n",
       "      <td>0</td>\n",
       "      <td>0</td>\n",
       "      <td>0</td>\n",
       "      <td>0</td>\n",
       "      <td>0</td>\n",
       "    </tr>\n",
       "  </tbody>\n",
       "</table>\n",
       "<p>5 rows × 250 columns</p>\n",
       "</div>"
      ],
      "text/plain": [
       "   TransactionID  isFraud  TransactionDT  TransactionAmt  card1  card2  card3  \\\n",
       "0        2994681        0         242834          25.000   9803  583.0  150.0   \n",
       "1        3557242        0       15123000         117.000   7919  194.0  150.0   \n",
       "2        3327470        0        8378575          73.773  12778  500.0  185.0   \n",
       "3        3118781        0        2607840         400.000  12316  548.0  150.0   \n",
       "4        3459772        0       12226544          31.950   9002  453.0  150.0   \n",
       "\n",
       "   card5  addr1  addr2  ...  P_emaildomain_web.de  \\\n",
       "0  226.0  269.0   87.0  ...                     0   \n",
       "1  166.0  181.0   87.0  ...                     0   \n",
       "2  224.0  284.0   60.0  ...                     0   \n",
       "3  195.0  441.0   87.0  ...                     0   \n",
       "4  226.0  264.0   87.0  ...                     0   \n",
       "\n",
       "   P_emaildomain_windstream.net  P_emaildomain_yahoo.co.jp  \\\n",
       "0                             0                          0   \n",
       "1                             0                          0   \n",
       "2                             0                          0   \n",
       "3                             0                          0   \n",
       "4                             0                          0   \n",
       "\n",
       "   P_emaildomain_yahoo.co.uk  P_emaildomain_yahoo.com  \\\n",
       "0                          0                        1   \n",
       "1                          0                        0   \n",
       "2                          0                        0   \n",
       "3                          0                        0   \n",
       "4                          0                        1   \n",
       "\n",
       "   P_emaildomain_yahoo.com.mx  P_emaildomain_yahoo.de  P_emaildomain_yahoo.es  \\\n",
       "0                           0                       0                       0   \n",
       "1                           0                       0                       0   \n",
       "2                           0                       0                       0   \n",
       "3                           0                       0                       0   \n",
       "4                           0                       0                       0   \n",
       "\n",
       "   P_emaildomain_yahoo.fr  P_emaildomain_ymail.com  \n",
       "0                       0                        0  \n",
       "1                       0                        0  \n",
       "2                       0                        0  \n",
       "3                       0                        0  \n",
       "4                       0                        0  \n",
       "\n",
       "[5 rows x 250 columns]"
      ]
     },
     "execution_count": 19,
     "metadata": {},
     "output_type": "execute_result"
    }
   ],
   "source": [
    "fraud_data.head()"
   ]
  },
  {
   "cell_type": "markdown",
   "metadata": {
    "colab_type": "text",
    "id": "kAkHAuGaE_Xo"
   },
   "source": [
    "If you notice, a lot of dummy variables are created like; **P_emaildomain_hotmail.com, P_emaildomain_hotmail.de,** etc."
   ]
  },
  {
   "cell_type": "markdown",
   "metadata": {
    "colab_type": "text",
    "id": "DQPCxfdDn0d5"
   },
   "source": [
    "#### Separate Input Features and Output Features"
   ]
  },
  {
   "cell_type": "code",
   "execution_count": 20,
   "metadata": {
    "colab": {},
    "colab_type": "code",
    "id": "UQWaD295Lr7p"
   },
   "outputs": [],
   "source": [
    "# Separate input features and output feature\n",
    "X = fraud_data.drop(columns = ['isFraud'])       # input features\n",
    "Y = fraud_data.isFraud      # output feature\n",
    "\n",
    "from sklearn.model_selection import train_test_split\n",
    "\n",
    "# Split randomly into 70% train data and 30% test data\n",
    "X_train, X_Test, Y_train, Y_Test = train_test_split(X, Y, test_size = 0.3, random_state = 123)"
   ]
  },
  {
   "cell_type": "markdown",
   "metadata": {
    "colab_type": "text",
    "id": "0myjC1VxpHyx"
   },
   "source": [
    "# Dealing with Imbalanced Data"
   ]
  },
  {
   "cell_type": "markdown",
   "metadata": {
    "colab_type": "text",
    "id": "u9vPjbAMvDFX"
   },
   "source": [
    "Here we will use imblearn’s SMOTE or Synthetic Minority Oversampling Technique. SMOTE uses a nearest neighbors algorithm to generate new and synthetic data we can use for training our model."
   ]
  },
  {
   "cell_type": "code",
   "execution_count": 21,
   "metadata": {
    "colab": {},
    "colab_type": "code",
    "id": "FWkp26p-uwF2"
   },
   "outputs": [],
   "source": [
    "# import SMOTE \n",
    "from imblearn.over_sampling import SMOTE\n",
    "\n",
    "sm = SMOTE(random_state = 25)   # again we are eqalizing both the classes"
   ]
  },
  {
   "cell_type": "code",
   "execution_count": 22,
   "metadata": {
    "colab": {},
    "colab_type": "code",
    "id": "Yf7sHze_wFJp"
   },
   "outputs": [],
   "source": [
    "# fit the sampling\n",
    "X_train, Y_train = sm.fit_resample(X_train, Y_train)"
   ]
  },
  {
   "cell_type": "code",
   "execution_count": 23,
   "metadata": {
    "colab": {
     "base_uri": "https://localhost:8080/",
     "height": 34
    },
    "colab_type": "code",
    "id": "15XOWmqPwULH",
    "outputId": "16229543-6fce-41f4-fd49-815cb829d8fb"
   },
   "outputs": [
    {
     "data": {
      "text/plain": [
       "(array([0, 1]), array([39944, 39944]))"
      ]
     },
     "execution_count": 23,
     "metadata": {},
     "output_type": "execute_result"
    }
   ],
   "source": [
    "np.unique(Y_train, return_counts=True)"
   ]
  },
  {
   "cell_type": "markdown",
   "metadata": {
    "colab_type": "text",
    "id": "j8m9UNkRw1LV"
   },
   "source": [
    "The count of both the classes are equal."
   ]
  },
  {
   "cell_type": "markdown",
   "metadata": {
    "colab_type": "text",
    "id": "--K223wHPMZe"
   },
   "source": [
    "### Building Random Forest Model "
   ]
  },
  {
   "cell_type": "code",
   "execution_count": 24,
   "metadata": {
    "colab": {},
    "colab_type": "code",
    "id": "p8M-21Xp4EhV"
   },
   "outputs": [],
   "source": [
    "from sklearn.ensemble import RandomForestClassifier\n",
    "rfc = RandomForestClassifier(criterion='entropy')"
   ]
  },
  {
   "cell_type": "code",
   "execution_count": 25,
   "metadata": {
    "colab": {
     "base_uri": "https://localhost:8080/",
     "height": 153
    },
    "colab_type": "code",
    "id": "I1zxcn6P5Rud",
    "outputId": "1d4f9890-5da7-4494-e499-ac64e053151d"
   },
   "outputs": [
    {
     "data": {
      "text/plain": [
       "RandomForestClassifier(criterion='entropy')"
      ]
     },
     "execution_count": 25,
     "metadata": {},
     "output_type": "execute_result"
    }
   ],
   "source": [
    "rfc.fit(X_train, Y_train)"
   ]
  },
  {
   "cell_type": "code",
   "execution_count": 26,
   "metadata": {
    "colab": {
     "base_uri": "https://localhost:8080/",
     "height": 34
    },
    "colab_type": "code",
    "id": "9S9hvP8N4RDw",
    "outputId": "a1b2d410-ab8f-441f-de5d-129012a9db02"
   },
   "outputs": [
    {
     "data": {
      "text/plain": [
       "0.9749957667776712"
      ]
     },
     "execution_count": 26,
     "metadata": {},
     "output_type": "execute_result"
    }
   ],
   "source": [
    "rfc.score(X_Test, Y_Test)"
   ]
  },
  {
   "cell_type": "markdown",
   "metadata": {
    "colab_type": "text",
    "id": "CFooIZrR4q4B"
   },
   "source": [
    "### Feature Selection\n",
    "Feature selection is the process of reducing the number of input variables when developing a predictive model.\n",
    "\n",
    "It is desirable to reduce the number of input variables to both reduce the computational cost of modeling and, in some cases, to improve the performance of the model.\n",
    "\n",
    "Here we are using 'slectKBest' from 'sklearn.feature_selection' which selects features according to the k highest scores. It takes two parameters:\n",
    "\n",
    "* **score_func:** **callable**\n",
    "\n",
    "  Function taking two arrays X and y, and returning a pair of arrays (scores, pvalues) or a single array with scores. Default is f_classif (see below “See also”). The default function only works with classification tasks.\n",
    "\n",
    "* **k:  optional, default=10**\n",
    "  \n",
    "  Number of top features to select.\n",
    "\n",
    "\n",
    "When we have numerical features and categorical output we can use 'f_classif' from 'sklearn.feature_selection'."
   ]
  },
  {
   "cell_type": "code",
   "execution_count": 27,
   "metadata": {
    "colab": {},
    "colab_type": "code",
    "id": "KwvlPSXR4ckY"
   },
   "outputs": [],
   "source": [
    "from sklearn.feature_selection import SelectKBest, f_classif"
   ]
  },
  {
   "cell_type": "code",
   "execution_count": 28,
   "metadata": {
    "colab": {},
    "colab_type": "code",
    "id": "TdjhE2Ri4p5U"
   },
   "outputs": [],
   "source": [
    "selector = SelectKBest(f_classif, k=10)     # Let's say we select 10 best features"
   ]
  },
  {
   "cell_type": "code",
   "execution_count": 29,
   "metadata": {
    "colab": {},
    "colab_type": "code",
    "id": "2BNBrOEO5ev2"
   },
   "outputs": [],
   "source": [
    "X_new = selector.fit_transform(X, Y)"
   ]
  },
  {
   "cell_type": "code",
   "execution_count": 30,
   "metadata": {
    "colab": {},
    "colab_type": "code",
    "id": "t7ETZ0cT6sDw"
   },
   "outputs": [],
   "source": [
    "from sklearn.model_selection import train_test_split\n",
    "X_train, X_test, Y_train, Y_test = train_test_split(X_new, Y, test_size = 0.2, random_state = 42)"
   ]
  },
  {
   "cell_type": "code",
   "execution_count": 31,
   "metadata": {
    "colab": {
     "base_uri": "https://localhost:8080/",
     "height": 153
    },
    "colab_type": "code",
    "id": "hdcjRY2m57Yk",
    "outputId": "97200dd0-10f8-4336-dd6b-35ac254f5262"
   },
   "outputs": [
    {
     "data": {
      "text/plain": [
       "RandomForestClassifier(criterion='entropy')"
      ]
     },
     "execution_count": 31,
     "metadata": {},
     "output_type": "execute_result"
    }
   ],
   "source": [
    "rfc.fit(X_train, Y_train)"
   ]
  },
  {
   "cell_type": "code",
   "execution_count": 32,
   "metadata": {
    "colab": {
     "base_uri": "https://localhost:8080/",
     "height": 34
    },
    "colab_type": "code",
    "id": "8Yg0g4H86MOV",
    "outputId": "49fdaeb7-159f-4dd3-e416-f9e499540a69"
   },
   "outputs": [
    {
     "data": {
      "text/plain": [
       "0.9689272711878757"
      ]
     },
     "execution_count": 32,
     "metadata": {},
     "output_type": "execute_result"
    }
   ],
   "source": [
    "rfc.score(X_test, Y_test)"
   ]
  },
  {
   "cell_type": "markdown",
   "metadata": {
    "colab_type": "text",
    "id": "0DIxQVy_guKV"
   },
   "source": [
    "**Note:** Obviously we can notice there is 0.7% decrease in accuracy score. The point to note is that we had got 97.5% accuracy with 249 features, then after that we selected only 10 features of 249 features and still able to get 96.9% accurate results. The conclusion is that we have reduced a lot of computational complexities which is very good as our aim is not only to increase the performance of the model at any cost but also to reduce the computational complexity of our model."
   ]
  },
  {
   "cell_type": "markdown",
   "metadata": {
    "colab_type": "text",
    "id": "no3aR-9LimRd"
   },
   "source": [
    "### Cross - Validation"
   ]
  },
  {
   "cell_type": "code",
   "execution_count": 33,
   "metadata": {
    "colab": {},
    "colab_type": "code",
    "id": "TWZDs96oi1mh"
   },
   "outputs": [],
   "source": [
    "# We will use here k - fold cross validation technique\n",
    "from sklearn.model_selection import cross_validate"
   ]
  },
  {
   "cell_type": "code",
   "execution_count": 34,
   "metadata": {
    "colab": {
     "base_uri": "https://localhost:8080/",
     "height": 187
    },
    "colab_type": "code",
    "id": "_JuwMQb1i1Wh",
    "outputId": "3bef6842-bc9c-484b-871d-a9ff84017e5f"
   },
   "outputs": [
    {
     "data": {
      "text/plain": [
       "{'fit_time': array([0.97147083, 0.97753811, 0.9597652 , 0.97072315, 0.98393297,\n",
       "        0.97225404, 0.97907734, 0.97083783, 0.9575789 , 0.9567771 ]),\n",
       " 'score_time': array([0.03678012, 0.03649211, 0.03633499, 0.03682494, 0.03547072,\n",
       "        0.03692102, 0.03689981, 0.03638124, 0.03658605, 0.03702593]),\n",
       " 'test_accuracy': array([0.96901456, 0.9685066 , 0.9693532 , 0.96867592, 0.96748518,\n",
       "        0.96900931, 0.96799323, 0.96867062, 0.9700254 , 0.96917866]),\n",
       " 'test_precision': array([0.82142857, 0.75862069, 0.79411765, 0.80769231, 0.625     ,\n",
       "        0.75757576, 0.67741935, 0.71428571, 0.81081081, 0.80645161]),\n",
       " 'test_recall': array([0.11442786, 0.10945274, 0.13432836, 0.10447761, 0.1       ,\n",
       "        0.125     , 0.105     , 0.125     , 0.15      , 0.12437811])}"
      ]
     },
     "execution_count": 34,
     "metadata": {},
     "output_type": "execute_result"
    }
   ],
   "source": [
    "cv_results = cross_validate(rfc, X_new, Y, cv=10, scoring=[\"accuracy\", \"precision\", \"recall\"])\n",
    "cv_results"
   ]
  },
  {
   "cell_type": "code",
   "execution_count": 35,
   "metadata": {
    "colab": {
     "base_uri": "https://localhost:8080/",
     "height": 34
    },
    "colab_type": "code",
    "id": "NPQhL-Wdi1Fr",
    "outputId": "cd639aa6-a000-454a-b1a4-8f9372c53677"
   },
   "outputs": [
    {
     "name": "stdout",
     "output_type": "stream",
     "text": [
      "Accuracy:  0.9687912692584616\n"
     ]
    }
   ],
   "source": [
    "print(\"Accuracy: \", cv_results[\"test_accuracy\"].mean())"
   ]
  },
  {
   "cell_type": "markdown",
   "metadata": {
    "colab_type": "text",
    "id": "bn_XEArIjm9A"
   },
   "source": [
    "Even with cross validation we are getting approx 96.9% of accurate results."
   ]
  },
  {
   "cell_type": "markdown",
   "metadata": {
    "colab_type": "text",
    "id": "Fh2gSYBB7q9t"
   },
   "source": [
    "### Hyper parameter tunning\n",
    "Hyperparameters are important parts of the ML model and can make the model gold or trash. Here we have discussed one of the popular hyperparameter tunning method i.e. using Grid Search CV."
   ]
  },
  {
   "cell_type": "code",
   "execution_count": 36,
   "metadata": {
    "colab": {},
    "colab_type": "code",
    "id": "iJULs32W7_2x"
   },
   "outputs": [],
   "source": [
    "from sklearn.model_selection import GridSearchCV"
   ]
  },
  {
   "cell_type": "code",
   "execution_count": 37,
   "metadata": {
    "colab": {},
    "colab_type": "code",
    "id": "9H2stTDwkRbl"
   },
   "outputs": [],
   "source": [
    "from sklearn.ensemble import RandomForestClassifier\n",
    "rfc = RandomForestClassifier()"
   ]
  },
  {
   "cell_type": "markdown",
   "metadata": {
    "colab_type": "text",
    "id": "M2itoOa7mddr"
   },
   "source": [
    "To know about different parameters of random forest visit here: https://scikit-learn.org/stable/modules/generated/sklearn.ensemble.RandomForestClassifier.html"
   ]
  },
  {
   "cell_type": "code",
   "execution_count": 38,
   "metadata": {
    "colab": {},
    "colab_type": "code",
    "id": "RSZj1jrx9XQg"
   },
   "outputs": [],
   "source": [
    "# Different parameters in random forest\n",
    "\n",
    "criterion = ['gini', 'entropy']        # what criteria to consider\n",
    "\n",
    "n_estimators = [100, 200, 300]       # Number of trees in random forest\n",
    "\n",
    "max_features = ['auto', 'sqrt']       # Number of features to consider at every split\n",
    "\n",
    "max_depth = [10, 20]      # Maximum number of levels in tree.\n",
    "\n",
    "max_depth.append(None)     # also appendin 'None' in max_depth i.e. no maximum depth to be considered.\n",
    "\n",
    "params = {'criterion': criterion,\n",
    "          'n_estimators': n_estimators,\n",
    "          'max_features': max_features,\n",
    "          'max_depth': max_depth}\n"
   ]
  },
  {
   "cell_type": "code",
   "execution_count": 39,
   "metadata": {
    "colab": {
     "base_uri": "https://localhost:8080/",
     "height": 85
    },
    "colab_type": "code",
    "id": "QbMaahyDnneZ",
    "outputId": "5a0ba0c1-4098-49d4-bb2e-73d47c809041"
   },
   "outputs": [
    {
     "data": {
      "text/plain": [
       "{'criterion': ['gini', 'entropy'],\n",
       " 'n_estimators': [100, 200, 300],\n",
       " 'max_features': ['auto', 'sqrt'],\n",
       " 'max_depth': [10, 20, None]}"
      ]
     },
     "execution_count": 39,
     "metadata": {},
     "output_type": "execute_result"
    }
   ],
   "source": [
    "params"
   ]
  },
  {
   "cell_type": "code",
   "execution_count": 40,
   "metadata": {
    "colab": {},
    "colab_type": "code",
    "id": "XwlLlPFN9ZnF"
   },
   "outputs": [],
   "source": [
    "gs = GridSearchCV(rfc, param_grid=params, n_jobs=2)"
   ]
  },
  {
   "cell_type": "code",
   "execution_count": 41,
   "metadata": {
    "colab": {
     "base_uri": "https://localhost:8080/",
     "height": 408
    },
    "colab_type": "code",
    "id": "zFDZSMKB9hnT",
    "outputId": "e45aee54-21a9-4772-e208-4ab10d7d3b70"
   },
   "outputs": [
    {
     "data": {
      "text/plain": [
       "GridSearchCV(estimator=RandomForestClassifier(), n_jobs=2,\n",
       "             param_grid={'criterion': ['gini', 'entropy'],\n",
       "                         'max_depth': [10, 20, None],\n",
       "                         'max_features': ['auto', 'sqrt'],\n",
       "                         'n_estimators': [100, 200, 300]})"
      ]
     },
     "execution_count": 41,
     "metadata": {},
     "output_type": "execute_result"
    }
   ],
   "source": [
    "gs.fit(X_train, Y_train)    # this will take a lot of time to execute"
   ]
  },
  {
   "cell_type": "code",
   "execution_count": 42,
   "metadata": {
    "colab": {
     "base_uri": "https://localhost:8080/",
     "height": 85
    },
    "colab_type": "code",
    "id": "z6FNdBsL9nB6",
    "outputId": "8ab6d8a2-bb3d-4955-c248-7233876935e7"
   },
   "outputs": [
    {
     "data": {
      "text/plain": [
       "{'criterion': 'gini',\n",
       " 'max_depth': 20,\n",
       " 'max_features': 'auto',\n",
       " 'n_estimators': 100}"
      ]
     },
     "execution_count": 42,
     "metadata": {},
     "output_type": "execute_result"
    }
   ],
   "source": [
    "gs.best_params_"
   ]
  },
  {
   "cell_type": "code",
   "execution_count": 43,
   "metadata": {
    "colab": {
     "base_uri": "https://localhost:8080/",
     "height": 34
    },
    "colab_type": "code",
    "id": "K0l9DDOE_QxJ",
    "outputId": "c36979ec-8efc-4f36-d720-e7ae189e68cf"
   },
   "outputs": [
    {
     "data": {
      "text/plain": [
       "0.9684609583297974"
      ]
     },
     "execution_count": 43,
     "metadata": {},
     "output_type": "execute_result"
    }
   ],
   "source": [
    "gs.best_score_"
   ]
  },
  {
   "cell_type": "code",
   "execution_count": 44,
   "metadata": {
    "colab": {
     "base_uri": "https://localhost:8080/",
     "height": 34
    },
    "colab_type": "code",
    "id": "hkoDdv8wev4g",
    "outputId": "93f40867-3092-4d2e-cf0c-8c7115932257"
   },
   "outputs": [
    {
     "data": {
      "text/plain": [
       "0.969265938531877"
      ]
     },
     "execution_count": 44,
     "metadata": {},
     "output_type": "execute_result"
    }
   ],
   "source": [
    "gs.score(X_test, Y_test)"
   ]
  },
  {
   "cell_type": "markdown",
   "metadata": {
    "colab_type": "text",
    "id": "3xj73WQFfVVA"
   },
   "source": [
    "**Conclusion**\n",
    "*  We observed that the dataset contained missing values. We removed some columns and filled missing values for numerical column with mean and categorical column with mode (i.e. the maximum occuring value).\n",
    "*  We observed that the dataset was imblanced. We used 'SMOTE' to generate new data to deal with the problem of imbalanced data.\n",
    "*  We build Random Forest model, got accuracy score of 97.53%.\n",
    "*  Then we selected only 10 most important features using selectKBest and f_classif. Here the model complexity is reduced a lot (which is very good) with very little decrease in accuracy\n",
    "*  Cross Validation and Hyper parameter tunning gave nearly 96.8% of accurate results which is not bad. Most of the times the default values for hyper parameters of the models are same that we get through the hyper parameter tunning. That's the reason there is not much difference in normal model and tunned model."
   ]
  },
  {
   "cell_type": "code",
   "execution_count": null,
   "metadata": {},
   "outputs": [],
   "source": []
  }
 ],
 "metadata": {
  "colab": {
   "collapsed_sections": [
    "qjdy3vG5BmER",
    "qKO21Qg8NSQc",
    "DQPCxfdDn0d5",
    "--K223wHPMZe",
    "CFooIZrR4q4B",
    "Fh2gSYBB7q9t"
   ],
   "name": "model_optimization_with_random_forest.ipynb",
   "provenance": []
  },
  "kernelspec": {
   "display_name": "Python 3",
   "language": "python",
   "name": "python3"
  },
  "language_info": {
   "codemirror_mode": {
    "name": "ipython",
    "version": 3
   },
   "file_extension": ".py",
   "mimetype": "text/x-python",
   "name": "python",
   "nbconvert_exporter": "python",
   "pygments_lexer": "ipython3",
   "version": "3.8.8"
  }
 },
 "nbformat": 4,
 "nbformat_minor": 1
}
